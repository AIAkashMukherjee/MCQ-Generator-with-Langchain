{
 "cells": [
  {
   "cell_type": "code",
   "execution_count": 147,
   "metadata": {},
   "outputs": [],
   "source": [
    "import os\n",
    "import json\n",
    "import pandas as pd\n",
    "import traceback\n",
    "from langchain.chat_models import ChatOpenAI\n",
    "from langchain_community.llms import Ollama\n",
    "from langchain import HuggingFaceHub\n",
    "from langchain.llms import OpenAI\n",
    "from langchain.prompts import PromptTemplate\n",
    "from langchain.chains import LLMChain\n",
    "from langchain.chains import SequentialChain\n",
    "from langchain.callbacks import get_openai_callback\n",
    "import PyPDF2\n",
    "import os\n",
    "from dotenv import load_dotenv\n",
    "\n",
    "load_dotenv()\n",
    "open_ai_api = os.getenv(\"OPENAI_API_KEY\")\n",
    "huggingface_api = os.getenv(\"HUGGING_FACE_KEY\")"
   ]
  },
  {
   "cell_type": "code",
   "execution_count": 148,
   "metadata": {},
   "outputs": [],
   "source": [
    "\n",
    "llm=ChatOpenAI(openai_api_key=open_ai_api,model_name=\"gpt-3.5-turbo\", temperature=0.5)"
   ]
  },
  {
   "cell_type": "code",
   "execution_count": 149,
   "metadata": {},
   "outputs": [],
   "source": [
    "# llm_huggingface=HuggingFaceHub(repo_id=\"google/flan-t5-large\",model_kwargs={\"temperature\":0,\"max_length\":64},huggingfacehub_api_token=huggingface_api)\n",
    "\n",
    "Llama_model=Ollama(model=\"llama2\")"
   ]
  },
  {
   "cell_type": "code",
   "execution_count": 150,
   "metadata": {},
   "outputs": [],
   "source": [
    "RESPONSE_JSON = {\n",
    "    \"1\": {\n",
    "        \"mcq\": \"multiple choice question\",\n",
    "        \"options\": {\n",
    "            \"a\": \"choice here\",\n",
    "            \"b\": \"choice here\",\n",
    "            \"c\": \"choice here\",\n",
    "            \"d\": \"choice here\",\n",
    "        },\n",
    "        \"correct\": \"correct answer\",\n",
    "    },\n",
    "    \"2\": {\n",
    "        \"mcq\": \"multiple choice question\",\n",
    "        \"options\": {\n",
    "            \"a\": \"choice here\",\n",
    "            \"b\": \"choice here\",\n",
    "            \"c\": \"choice here\",\n",
    "            \"d\": \"choice here\",\n",
    "        },\n",
    "        \"correct\": \"correct answer\",\n",
    "    },\n",
    "    \"3\": {\n",
    "        \"mcq\": \"multiple choice question\",\n",
    "        \"options\": {\n",
    "            \"a\": \"choice here\",\n",
    "            \"b\": \"choice here\",\n",
    "            \"c\": \"choice here\",\n",
    "            \"d\": \"choice here\",\n",
    "        },\n",
    "        \"correct\": \"correct answer\",\n",
    "    },\n",
    "}"
   ]
  },
  {
   "cell_type": "code",
   "execution_count": 151,
   "metadata": {},
   "outputs": [],
   "source": [
    "TEMPLATE = \"\"\"\n",
    "Text: {text}\n",
    "\n",
    "You are an expert MCQ maker. Based on the above text, generate a quiz with {number} multiple-choice questions for {subject} students in a {tone} tone.\n",
    "\n",
    "Instructions:\n",
    "- Ensure the questions are diverse and not repetitive.\n",
    "- All questions must be strictly relevant to the provided text.\n",
    "- Each question must have four options (A, B, C, D) with one correct answer.\n",
    "- Output the response in valid JSON format, strictly following the example.\n",
    "\n",
    "### RESPONSE_JSON\n",
    "{response_json}\n",
    "\"\"\""
   ]
  },
  {
   "cell_type": "code",
   "execution_count": 152,
   "metadata": {},
   "outputs": [],
   "source": [
    "\n",
    "quiz_prompt_template=PromptTemplate(input_variables=[\"text\",\"number\",\"subject\",\"tone\",\"response_json\"],template=TEMPLATE)"
   ]
  },
  {
   "cell_type": "code",
   "execution_count": 153,
   "metadata": {},
   "outputs": [],
   "source": [
    "quiz_chain=LLMChain(llm=llm,prompt=quiz_prompt_template,output_key=\"quiz\",verbose=True)"
   ]
  },
  {
   "cell_type": "code",
   "execution_count": 154,
   "metadata": {},
   "outputs": [],
   "source": [
    "TEMPLATE2 = \"\"\"\n",
    "You are an expert English grammarian and writer. Given a multiple-choice quiz for {subject} students, \n",
    "your task is to analyze its complexity and improve it if necessary.\n",
    "\n",
    "### Task:\n",
    "- Evaluate the cognitive and analytical complexity of the quiz.\n",
    "- Provide a brief **complexity analysis** (maximum 50 words).\n",
    "- If any question does not match the students' abilities, **update** it.\n",
    "- Adjust the **tone** and **wording** to ensure it fits the students’ cognitive level.\n",
    "\n",
    "### Quiz_MCQs:\n",
    "{quiz}\n",
    "\n",
    "### Expert Review:\n",
    "\"\"\""
   ]
  },
  {
   "cell_type": "code",
   "execution_count": 155,
   "metadata": {},
   "outputs": [],
   "source": [
    "quiz_eval_template=PromptTemplate(input_variables=[\"subject\",\"quiz\"],template=TEMPLATE2)\n"
   ]
  },
  {
   "cell_type": "code",
   "execution_count": 156,
   "metadata": {},
   "outputs": [],
   "source": [
    "eval_chain=LLMChain(llm=Llama_model,prompt=quiz_eval_template,output_key=\"review\",verbose=True)"
   ]
  },
  {
   "cell_type": "code",
   "execution_count": 157,
   "metadata": {},
   "outputs": [],
   "source": [
    "generate_quiz_chain=SequentialChain(chains=[quiz_chain,eval_chain],input_variables=[\"text\", \"number\", \"subject\", \"tone\", \"response_json\"],\n",
    "                                        output_variables=[\"quiz\", \"review\"],verbose=True)"
   ]
  },
  {
   "cell_type": "code",
   "execution_count": 158,
   "metadata": {},
   "outputs": [],
   "source": [
    "file_path='../data/speech.txt'"
   ]
  },
  {
   "cell_type": "code",
   "execution_count": 159,
   "metadata": {},
   "outputs": [
    {
     "data": {
      "text/plain": [
       "'../data/speech.txt'"
      ]
     },
     "execution_count": 159,
     "metadata": {},
     "output_type": "execute_result"
    }
   ],
   "source": [
    "file_path"
   ]
  },
  {
   "cell_type": "code",
   "execution_count": 160,
   "metadata": {},
   "outputs": [],
   "source": [
    "\n",
    "with open(file_path, 'r') as file:\n",
    "    TEXT = file.read()"
   ]
  },
  {
   "cell_type": "code",
   "execution_count": 161,
   "metadata": {},
   "outputs": [
    {
     "name": "stdout",
     "output_type": "stream",
     "text": [
      "The world must be made safe for democracy. Its peace must be planted upon the tested foundations of political liberty. We have no selfish ends to serve. We desire no conquest, no dominion. We seek no indemnities for ourselves, no material compensation for the sacrifices we shall freely make. We are but one of the champions of the rights of mankind. We shall be satisfied when those rights have been made as secure as the faith and the freedom of nations can make them.\n",
      "\n",
      "Just because we fight without rancor and without selfish object, seeking nothing for ourselves but what we shall wish to share with all free peoples, we shall, I feel confident, conduct our operations as belligerents without passion and ourselves observe with proud punctilio the principles of right and of fair play we profess to be fighting for.\n",
      "\n",
      "…\n",
      "\n",
      "It will be all the easier for us to conduct ourselves as belligerents in a high spirit of right and fairness because we act without animus, not in enmity toward a people or with the desire to bring any injury or disadvantage upon them, but only in armed opposition to an irresponsible government which has thrown aside all considerations of humanity and of right and is running amuck. We are, let me say again, the sincere friends of the German people, and shall desire nothing so much as the early reestablishment of intimate relations of mutual advantage between us—however hard it may be for them, for the time being, to believe that this is spoken from our hearts.\n",
      "\n",
      "We have borne with their present government through all these bitter months because of that friendship—exercising a patience and forbearance which would otherwise have been impossible. We shall, happily, still have an opportunity to prove that friendship in our daily attitude and actions toward the millions of men and women of German birth and native sympathy who live among us and share our life, and we shall be proud to prove it toward all who are in fact loyal to their neighbors and to the government in the hour of test. They are, most of them, as true and loyal Americans as if they had never known any other fealty or allegiance. They will be prompt to stand with us in rebuking and restraining the few who may be of a different mind and purpose. If there should be disloyalty, it will be dealt with with a firm hand of stern repression; but, if it lifts its head at all, it will lift it only here and there and without countenance except from a lawless and malignant few.\n",
      "\n",
      "It is a distressing and oppressive duty, gentlemen of the Congress, which I have performed in thus addressing you. There are, it may be, many months of fiery trial and sacrifice ahead of us. It is a fearful thing to lead this great peaceful people into war, into the most terrible and disastrous of all wars, civilization itself seeming to be in the balance. But the right is more precious than peace, and we shall fight for the things which we have always carried nearest our hearts—for democracy, for the right of those who submit to authority to have a voice in their own governments, for the rights and liberties of small nations, for a universal dominion of right by such a concert of free peoples as shall bring peace and safety to all nations and make the world itself at last free.\n",
      "\n",
      "To such a task we can dedicate our lives and our fortunes, everything that we are and everything that we have, with the pride of those who know that the day has come when America is privileged to spend her blood and her might for the principles that gave her birth and happiness and the peace which she has treasured. God helping her, she can do no other.\n"
     ]
    }
   ],
   "source": [
    "print(TEXT)"
   ]
  },
  {
   "cell_type": "code",
   "execution_count": 162,
   "metadata": {},
   "outputs": [
    {
     "data": {
      "text/plain": [
       "'{\"1\": {\"mcq\": \"multiple choice question\", \"options\": {\"a\": \"choice here\", \"b\": \"choice here\", \"c\": \"choice here\", \"d\": \"choice here\"}, \"correct\": \"correct answer\"}, \"2\": {\"mcq\": \"multiple choice question\", \"options\": {\"a\": \"choice here\", \"b\": \"choice here\", \"c\": \"choice here\", \"d\": \"choice here\"}, \"correct\": \"correct answer\"}, \"3\": {\"mcq\": \"multiple choice question\", \"options\": {\"a\": \"choice here\", \"b\": \"choice here\", \"c\": \"choice here\", \"d\": \"choice here\"}, \"correct\": \"correct answer\"}}'"
      ]
     },
     "execution_count": 162,
     "metadata": {},
     "output_type": "execute_result"
    }
   ],
   "source": [
    "json.dumps(RESPONSE_JSON)"
   ]
  },
  {
   "cell_type": "code",
   "execution_count": 163,
   "metadata": {},
   "outputs": [],
   "source": [
    "NUMBER=5 \n",
    "SUBJECT=\"Democracy\"\n",
    "TONE=\"simple\""
   ]
  },
  {
   "cell_type": "code",
   "execution_count": 164,
   "metadata": {},
   "outputs": [
    {
     "name": "stdout",
     "output_type": "stream",
     "text": [
      "\n",
      "\n",
      "\u001b[1m> Entering new SequentialChain chain...\u001b[0m\n",
      "\n",
      "\n",
      "\u001b[1m> Entering new LLMChain chain...\u001b[0m\n",
      "Prompt after formatting:\n",
      "\u001b[32;1m\u001b[1;3m\n",
      "Text: The world must be made safe for democracy. Its peace must be planted upon the tested foundations of political liberty. We have no selfish ends to serve. We desire no conquest, no dominion. We seek no indemnities for ourselves, no material compensation for the sacrifices we shall freely make. We are but one of the champions of the rights of mankind. We shall be satisfied when those rights have been made as secure as the faith and the freedom of nations can make them.\n",
      "\n",
      "Just because we fight without rancor and without selfish object, seeking nothing for ourselves but what we shall wish to share with all free peoples, we shall, I feel confident, conduct our operations as belligerents without passion and ourselves observe with proud punctilio the principles of right and of fair play we profess to be fighting for.\n",
      "\n",
      "…\n",
      "\n",
      "It will be all the easier for us to conduct ourselves as belligerents in a high spirit of right and fairness because we act without animus, not in enmity toward a people or with the desire to bring any injury or disadvantage upon them, but only in armed opposition to an irresponsible government which has thrown aside all considerations of humanity and of right and is running amuck. We are, let me say again, the sincere friends of the German people, and shall desire nothing so much as the early reestablishment of intimate relations of mutual advantage between us—however hard it may be for them, for the time being, to believe that this is spoken from our hearts.\n",
      "\n",
      "We have borne with their present government through all these bitter months because of that friendship—exercising a patience and forbearance which would otherwise have been impossible. We shall, happily, still have an opportunity to prove that friendship in our daily attitude and actions toward the millions of men and women of German birth and native sympathy who live among us and share our life, and we shall be proud to prove it toward all who are in fact loyal to their neighbors and to the government in the hour of test. They are, most of them, as true and loyal Americans as if they had never known any other fealty or allegiance. They will be prompt to stand with us in rebuking and restraining the few who may be of a different mind and purpose. If there should be disloyalty, it will be dealt with with a firm hand of stern repression; but, if it lifts its head at all, it will lift it only here and there and without countenance except from a lawless and malignant few.\n",
      "\n",
      "It is a distressing and oppressive duty, gentlemen of the Congress, which I have performed in thus addressing you. There are, it may be, many months of fiery trial and sacrifice ahead of us. It is a fearful thing to lead this great peaceful people into war, into the most terrible and disastrous of all wars, civilization itself seeming to be in the balance. But the right is more precious than peace, and we shall fight for the things which we have always carried nearest our hearts—for democracy, for the right of those who submit to authority to have a voice in their own governments, for the rights and liberties of small nations, for a universal dominion of right by such a concert of free peoples as shall bring peace and safety to all nations and make the world itself at last free.\n",
      "\n",
      "To such a task we can dedicate our lives and our fortunes, everything that we are and everything that we have, with the pride of those who know that the day has come when America is privileged to spend her blood and her might for the principles that gave her birth and happiness and the peace which she has treasured. God helping her, she can do no other.\n",
      "\n",
      "You are an expert MCQ maker. Based on the above text, generate a quiz with 5 multiple-choice questions for Democracy students in a simple tone.\n",
      "\n",
      "Instructions:\n",
      "- Ensure the questions are diverse and not repetitive.\n",
      "- All questions must be strictly relevant to the provided text.\n",
      "- Each question must have four options (A, B, C, D) with one correct answer.\n",
      "- Output the response in valid JSON format, strictly following the example.\n",
      "\n",
      "### RESPONSE_JSON\n",
      "{'1': {'mcq': 'multiple choice question', 'options': {'a': 'choice here', 'b': 'choice here', 'c': 'choice here', 'd': 'choice here'}, 'correct': 'correct answer'}, '2': {'mcq': 'multiple choice question', 'options': {'a': 'choice here', 'b': 'choice here', 'c': 'choice here', 'd': 'choice here'}, 'correct': 'correct answer'}, '3': {'mcq': 'multiple choice question', 'options': {'a': 'choice here', 'b': 'choice here', 'c': 'choice here', 'd': 'choice here'}, 'correct': 'correct answer'}}\n",
      "\u001b[0m\n",
      "\n",
      "\u001b[1m> Finished chain.\u001b[0m\n",
      "\n",
      "\n",
      "\u001b[1m> Entering new LLMChain chain...\u001b[0m\n",
      "Prompt after formatting:\n",
      "\u001b[32;1m\u001b[1;3m\n",
      "You are an expert English grammarian and writer. Given a multiple-choice quiz for Democracy students, \n",
      "your task is to analyze its complexity and improve it if necessary.\n",
      "\n",
      "### Task:\n",
      "- Evaluate the cognitive and analytical complexity of the quiz.\n",
      "- Provide a brief **complexity analysis** (maximum 50 words).\n",
      "- If any question does not match the students' abilities, **update** it.\n",
      "- Adjust the **tone** and **wording** to ensure it fits the students’ cognitive level.\n",
      "\n",
      "### Quiz_MCQs:\n",
      "\n",
      "{\n",
      "    \"1\": {\n",
      "        \"mcq\": \"What is the main goal mentioned in the text?\",\n",
      "        \"options\": {\n",
      "            \"a\": \"Conquest and dominion\",\n",
      "            \"b\": \"Material compensation\",\n",
      "            \"c\": \"Making the world safe for democracy\",\n",
      "            \"d\": \"Seeking selfish ends\"\n",
      "        },\n",
      "        \"correct\": \"c\"\n",
      "    },\n",
      "    \"2\": {\n",
      "        \"mcq\": \"How does the text describe the conduct of operations as belligerents?\",\n",
      "        \"options\": {\n",
      "            \"a\": \"With animus and enmity\",\n",
      "            \"b\": \"With passion and selfish object\",\n",
      "            \"c\": \"Without passion and with right and fairness\",\n",
      "            \"d\": \"Without regard for principles of right and fair play\"\n",
      "        },\n",
      "        \"correct\": \"c\"\n",
      "    },\n",
      "    \"3\": {\n",
      "        \"mcq\": \"What is the attitude of the United States towards the German people?\",\n",
      "        \"options\": {\n",
      "            \"a\": \"Enmity and hostility\",\n",
      "            \"b\": \"Sincere friendship\",\n",
      "            \"c\": \"Indifference\",\n",
      "            \"d\": \"Conquest and dominion\"\n",
      "        },\n",
      "        \"correct\": \"b\"\n",
      "    },\n",
      "    \"4\": {\n",
      "        \"mcq\": \"What principles does the text mention fighting for?\",\n",
      "        \"options\": {\n",
      "            \"a\": \"Material compensation and conquest\",\n",
      "            \"b\": \"Democracy and right of self-government\",\n",
      "            \"c\": \"Enmity and animus\",\n",
      "            \"d\": \"Dominion and indemnities\"\n",
      "        },\n",
      "        \"correct\": \"b\"\n",
      "    },\n",
      "    \"5\": {\n",
      "        \"mcq\": \"What is considered more precious than peace according to the text?\",\n",
      "        \"options\": {\n",
      "            \"a\": \"Conquest\",\n",
      "            \"b\": \"Right\",\n",
      "            \"c\": \"Material compensation\",\n",
      "            \"d\": \"Selfish ends\"\n",
      "        },\n",
      "        \"correct\": \"b\"\n",
      "    }\n",
      "}\n",
      "\n",
      "### Expert Review:\n",
      "\u001b[0m\n",
      "\n",
      "\u001b[1m> Finished chain.\u001b[0m\n",
      "\n",
      "\u001b[1m> Finished chain.\u001b[0m\n"
     ]
    }
   ],
   "source": [
    "with get_openai_callback() as cb:\n",
    "    response=generate_quiz_chain(\n",
    "{\n",
    "        \"text\": TEXT,\n",
    "        \"number\": NUMBER,\n",
    "        \"subject\":SUBJECT,\n",
    "        \"tone\": TONE,\n",
    "        \"response_json\": RESPONSE_JSON\n",
    "}\n",
    "    )"
   ]
  },
  {
   "cell_type": "code",
   "execution_count": 165,
   "metadata": {},
   "outputs": [
    {
     "name": "stdout",
     "output_type": "stream",
     "text": [
      "Total Tokens:1404\n",
      "Prompt Tokens:995\n",
      "Completion Tokens:409\n",
      "Total Cost:0.0023105\n"
     ]
    }
   ],
   "source": [
    "print(f\"Total Tokens:{cb.total_tokens}\")\n",
    "print(f\"Prompt Tokens:{cb.prompt_tokens}\")\n",
    "print(f\"Completion Tokens:{cb.completion_tokens}\")\n",
    "print(f\"Total Cost:{cb.total_cost}\")"
   ]
  },
  {
   "cell_type": "code",
   "execution_count": 166,
   "metadata": {},
   "outputs": [
    {
     "data": {
      "text/plain": [
       "{'text': 'The world must be made safe for democracy. Its peace must be planted upon the tested foundations of political liberty. We have no selfish ends to serve. We desire no conquest, no dominion. We seek no indemnities for ourselves, no material compensation for the sacrifices we shall freely make. We are but one of the champions of the rights of mankind. We shall be satisfied when those rights have been made as secure as the faith and the freedom of nations can make them.\\n\\nJust because we fight without rancor and without selfish object, seeking nothing for ourselves but what we shall wish to share with all free peoples, we shall, I feel confident, conduct our operations as belligerents without passion and ourselves observe with proud punctilio the principles of right and of fair play we profess to be fighting for.\\n\\n…\\n\\nIt will be all the easier for us to conduct ourselves as belligerents in a high spirit of right and fairness because we act without animus, not in enmity toward a people or with the desire to bring any injury or disadvantage upon them, but only in armed opposition to an irresponsible government which has thrown aside all considerations of humanity and of right and is running amuck. We are, let me say again, the sincere friends of the German people, and shall desire nothing so much as the early reestablishment of intimate relations of mutual advantage between us—however hard it may be for them, for the time being, to believe that this is spoken from our hearts.\\n\\nWe have borne with their present government through all these bitter months because of that friendship—exercising a patience and forbearance which would otherwise have been impossible. We shall, happily, still have an opportunity to prove that friendship in our daily attitude and actions toward the millions of men and women of German birth and native sympathy who live among us and share our life, and we shall be proud to prove it toward all who are in fact loyal to their neighbors and to the government in the hour of test. They are, most of them, as true and loyal Americans as if they had never known any other fealty or allegiance. They will be prompt to stand with us in rebuking and restraining the few who may be of a different mind and purpose. If there should be disloyalty, it will be dealt with with a firm hand of stern repression; but, if it lifts its head at all, it will lift it only here and there and without countenance except from a lawless and malignant few.\\n\\nIt is a distressing and oppressive duty, gentlemen of the Congress, which I have performed in thus addressing you. There are, it may be, many months of fiery trial and sacrifice ahead of us. It is a fearful thing to lead this great peaceful people into war, into the most terrible and disastrous of all wars, civilization itself seeming to be in the balance. But the right is more precious than peace, and we shall fight for the things which we have always carried nearest our hearts—for democracy, for the right of those who submit to authority to have a voice in their own governments, for the rights and liberties of small nations, for a universal dominion of right by such a concert of free peoples as shall bring peace and safety to all nations and make the world itself at last free.\\n\\nTo such a task we can dedicate our lives and our fortunes, everything that we are and everything that we have, with the pride of those who know that the day has come when America is privileged to spend her blood and her might for the principles that gave her birth and happiness and the peace which she has treasured. God helping her, she can do no other.',\n",
       " 'number': 5,\n",
       " 'subject': 'Democracy',\n",
       " 'tone': 'simple',\n",
       " 'response_json': {'1': {'mcq': 'multiple choice question',\n",
       "   'options': {'a': 'choice here',\n",
       "    'b': 'choice here',\n",
       "    'c': 'choice here',\n",
       "    'd': 'choice here'},\n",
       "   'correct': 'correct answer'},\n",
       "  '2': {'mcq': 'multiple choice question',\n",
       "   'options': {'a': 'choice here',\n",
       "    'b': 'choice here',\n",
       "    'c': 'choice here',\n",
       "    'd': 'choice here'},\n",
       "   'correct': 'correct answer'},\n",
       "  '3': {'mcq': 'multiple choice question',\n",
       "   'options': {'a': 'choice here',\n",
       "    'b': 'choice here',\n",
       "    'c': 'choice here',\n",
       "    'd': 'choice here'},\n",
       "   'correct': 'correct answer'}},\n",
       " 'quiz': '\\n{\\n    \"1\": {\\n        \"mcq\": \"What is the main goal mentioned in the text?\",\\n        \"options\": {\\n            \"a\": \"Conquest and dominion\",\\n            \"b\": \"Material compensation\",\\n            \"c\": \"Making the world safe for democracy\",\\n            \"d\": \"Seeking selfish ends\"\\n        },\\n        \"correct\": \"c\"\\n    },\\n    \"2\": {\\n        \"mcq\": \"How does the text describe the conduct of operations as belligerents?\",\\n        \"options\": {\\n            \"a\": \"With animus and enmity\",\\n            \"b\": \"With passion and selfish object\",\\n            \"c\": \"Without passion and with right and fairness\",\\n            \"d\": \"Without regard for principles of right and fair play\"\\n        },\\n        \"correct\": \"c\"\\n    },\\n    \"3\": {\\n        \"mcq\": \"What is the attitude of the United States towards the German people?\",\\n        \"options\": {\\n            \"a\": \"Enmity and hostility\",\\n            \"b\": \"Sincere friendship\",\\n            \"c\": \"Indifference\",\\n            \"d\": \"Conquest and dominion\"\\n        },\\n        \"correct\": \"b\"\\n    },\\n    \"4\": {\\n        \"mcq\": \"What principles does the text mention fighting for?\",\\n        \"options\": {\\n            \"a\": \"Material compensation and conquest\",\\n            \"b\": \"Democracy and right of self-government\",\\n            \"c\": \"Enmity and animus\",\\n            \"d\": \"Dominion and indemnities\"\\n        },\\n        \"correct\": \"b\"\\n    },\\n    \"5\": {\\n        \"mcq\": \"What is considered more precious than peace according to the text?\",\\n        \"options\": {\\n            \"a\": \"Conquest\",\\n            \"b\": \"Right\",\\n            \"c\": \"Material compensation\",\\n            \"d\": \"Selfish ends\"\\n        },\\n        \"correct\": \"b\"\\n    }\\n}',\n",
       " 'review': ' complexity analysis: The quiz appears to be moderately complex, with questions that require a higher-level understanding of historical context and textual analysis. Students will need to demonstrate their ability to analyze and interpret the text, as well as understand the cultural and political context in which it was written. Some of the options provided may be too simplistic or too broad, and could benefit from more nuanced and specific choices.\\n\\nUpdates:\\n\\n* Question 1: To better match students\\' abilities, consider providing more specific and nuanced options for the main goal mentioned in the text. For example: \"What is the primary goal mentioned in the text? (e.g. spreading democracy, ensuring national security, promoting economic interests)\"\\n* Question 2: To make the question more challenging and relevant to students\\' cognitive level, consider rephrasing it to require a more detailed analysis of the text. For example: \"How does the author describe the conduct of operations as belligerents in the text? (e.g. what specific tactics or strategies are employed, how do these relate to the broader political and cultural context?)\\n* Question 3: To better reflect students\\' abilities, consider providing more nuanced options for the attitude of the United States towards the German people. For example: \"What is the general attitude of the United States towards the German people in the text? (e.g. fear, hostility, indifference, friendship)\"\\n* Question 4: To make the question more challenging and relevant to students\\' cognitive level, consider rephrasing it to require a more detailed analysis of the text. For example: \"What specific principles does the author mention fighting for in the text? (e.g. democracy, self-government, national sovereignty, material compensation)\"\\n* Question 5: To better reflect students\\' abilities, consider providing more nuanced options for what is considered more precious than peace according to the text. For example: \"What does the author suggest is more valuable than peace in the text? (e.g. democracy, national security, economic interests, personal freedom)\"'}"
      ]
     },
     "execution_count": 166,
     "metadata": {},
     "output_type": "execute_result"
    }
   ],
   "source": [
    "response"
   ]
  },
  {
   "cell_type": "code",
   "execution_count": 167,
   "metadata": {},
   "outputs": [],
   "source": [
    "quiz=response.get(\"quiz\")"
   ]
  },
  {
   "cell_type": "code",
   "execution_count": 169,
   "metadata": {},
   "outputs": [],
   "source": [
    "if not quiz.strip():  # Check if the quiz is empty\n",
    "    raise ValueError(\"Error: The quiz output is empty!\")\n",
    "\n",
    "quiz = json.loads(quiz)  # Now safely parse"
   ]
  },
  {
   "cell_type": "code",
   "execution_count": 170,
   "metadata": {},
   "outputs": [],
   "source": [
    "quiz_table_data = []\n",
    "for key, value in quiz.items():\n",
    "    mcq = value[\"mcq\"]\n",
    "    options = \" | \".join(\n",
    "        [\n",
    "            f\"{option}: {option_value}\"\n",
    "            for option, option_value in value[\"options\"].items()\n",
    "            ]\n",
    "        )\n",
    "    correct = value[\"correct\"]\n",
    "    quiz_table_data.append({\"MCQ\": mcq, \"Choices\": options, \"Correct\": correct})\n"
   ]
  },
  {
   "cell_type": "code",
   "execution_count": 171,
   "metadata": {},
   "outputs": [
    {
     "data": {
      "text/plain": [
       "[{'MCQ': 'What is the main goal mentioned in the text?',\n",
       "  'Choices': 'a: Conquest and dominion | b: Material compensation | c: Making the world safe for democracy | d: Seeking selfish ends',\n",
       "  'Correct': 'c'},\n",
       " {'MCQ': 'How does the text describe the conduct of operations as belligerents?',\n",
       "  'Choices': 'a: With animus and enmity | b: With passion and selfish object | c: Without passion and with right and fairness | d: Without regard for principles of right and fair play',\n",
       "  'Correct': 'c'},\n",
       " {'MCQ': 'What is the attitude of the United States towards the German people?',\n",
       "  'Choices': 'a: Enmity and hostility | b: Sincere friendship | c: Indifference | d: Conquest and dominion',\n",
       "  'Correct': 'b'},\n",
       " {'MCQ': 'What principles does the text mention fighting for?',\n",
       "  'Choices': 'a: Material compensation and conquest | b: Democracy and right of self-government | c: Enmity and animus | d: Dominion and indemnities',\n",
       "  'Correct': 'b'},\n",
       " {'MCQ': 'What is considered more precious than peace according to the text?',\n",
       "  'Choices': 'a: Conquest | b: Right | c: Material compensation | d: Selfish ends',\n",
       "  'Correct': 'b'}]"
      ]
     },
     "execution_count": 171,
     "metadata": {},
     "output_type": "execute_result"
    }
   ],
   "source": [
    "quiz_table_data"
   ]
  },
  {
   "cell_type": "code",
   "execution_count": 173,
   "metadata": {},
   "outputs": [],
   "source": [
    "quiz=pd.DataFrame(quiz_table_data)\n",
    "quiz.to_csv(\"../data/machinelearning.csv\",index=False)"
   ]
  },
  {
   "cell_type": "code",
   "execution_count": null,
   "metadata": {},
   "outputs": [],
   "source": []
  }
 ],
 "metadata": {
  "kernelspec": {
   "display_name": "my_env",
   "language": "python",
   "name": "python3"
  },
  "language_info": {
   "codemirror_mode": {
    "name": "ipython",
    "version": 3
   },
   "file_extension": ".py",
   "mimetype": "text/x-python",
   "name": "python",
   "nbconvert_exporter": "python",
   "pygments_lexer": "ipython3",
   "version": "3.11.0"
  }
 },
 "nbformat": 4,
 "nbformat_minor": 2
}
